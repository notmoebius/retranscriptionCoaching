{
  "cells": [
    {
      "cell_type": "markdown",
      "metadata": {
        "id": "view-in-github",
        "colab_type": "text"
      },
      "source": [
        "<a href=\"https://colab.research.google.com/github/notmoebius/retranscriptionCoaching/blob/main/RetranscriptWhisper.ipynb\" target=\"_parent\"><img src=\"https://colab.research.google.com/assets/colab-badge.svg\" alt=\"Open In Colab\"/></a>"
      ]
    },
    {
      "cell_type": "markdown",
      "metadata": {
        "id": "QQLi2nrwct-z"
      },
      "source": [
        "## Préparation des outils pour lancer la retranscription : OpenAI Whisper\n",
        "\n"
      ]
    },
    {
      "cell_type": "markdown",
      "metadata": {
        "id": "hsbO5sxbg4cY"
      },
      "source": [
        "## Choisir le fichier mp3 ou mp4 à traiter\n",
        "\n",
        "1.   Ouvrir le dossier des fichiers\n",
        "\n",
        "![2023-01-05 11_42_03-RetranscriptWhisper.ipynb - Colaboratory.png](data:image/png;base64,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)\n",
        "\n",
        "2.   Séléctionner le fichier à traiter et le glisser-déplacer dans la zone prévue à cet effet.\n",
        "\n",
        "⏳ Bien attendre que le fichier soit téléchargé sinon vous aurez une retranscription tronqué. En bas à gauche, un cercle gris et jaune apparait à côté du nom du fichier, cette ligne doit disparaître !\n"
      ]
    },
    {
      "cell_type": "markdown",
      "source": [
        "⏩ Eventuellement, ***changer le nom du fichier mp3*** pour enlever les espaces et les caractères accentués (accents, etc..).\n",
        "\n",
        "⏩ Lancer la retranscription en cliquant sur [ ] qui devient une flèche \"Play\".\n",
        "\n",
        "Une fois terminée, 3 fichiers textes seront disponibles : \n",
        "- un fichier txt\n",
        "- un fichier srt, qui sert au sous-titrage\n",
        "- un fichier vtt, qui contient un horodatage des échanges.\n",
        "Vou pouvez aussi copier-coller la retranscription qui défile dans cette page.\n",
        "\n",
        "Je préconise de télécharger le fichier vtt à ouvrir dans le bloc-note (windows) ou notepas (Mac). Il suffit de relire et corriger les 5-10% qu'il a mal compris et mettre qui parle : le coaché ou le client ainsi que les gestes et non verbals.\n",
        "\n",
        "Bonne lecture !\n",
        "\n",
        "Made 💗 in Toulouse"
      ],
      "metadata": {
        "id": "AcDa8bGBm1cu"
      }
    },
    {
      "cell_type": "code",
      "execution_count": 2,
      "metadata": {
        "colab": {
          "base_uri": "https://localhost:8080/"
        },
        "id": "0J9z3clJciBE",
        "outputId": "65013d26-c997-4768-f11d-81e63c4d94d0"
      },
      "outputs": [
        {
          "output_type": "stream",
          "name": "stdout",
          "text": [
            "  Preparing metadata (setup.py) ... \u001b[?25l\u001b[?25hdone\n",
            "Detecting language using up to the first 30 seconds. Use `--language` to specify the language\n",
            "Detected language: French\n",
            "[00:00.000 --> 00:16.000]  On va être enregistrés et tout ce qui sera dit restera confidentiel, vous êtes ok sur le principe de pouvoir enregistrer?\n",
            "[00:16.000 --> 00:18.000]  Oui pas de souci.\n",
          ]
        }
      ],
      "source": [
        "! pip install git+https://github.com/openai/whisper.git -q\n",
        "import whisper\n",
        "\n",
        "model = whisper.load_model(\"medium\")\n",
        "\n",
        "!whisper \"/content/Coaching-Erika-S1-mp3.mp3\""
      ]
    }
  ],
  "metadata": {
    "colab": {
      "provenance": [],
      "authorship_tag": "ABX9TyOPewNur3ThuRwkwJttJ+NP",
      "include_colab_link": true
    },
    "kernelspec": {
      "display_name": "Python 3",
      "name": "python3"
    },
    "language_info": {
      "name": "python"
    },
    "accelerator": "GPU",
    "gpuClass": "standard"
  },
  "nbformat": 4,
  "nbformat_minor": 0
}
